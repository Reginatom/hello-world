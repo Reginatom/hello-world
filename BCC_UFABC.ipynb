{
  "nbformat": 4,
  "nbformat_minor": 0,
  "metadata": {
    "colab": {
      "provenance": [],
      "authorship_tag": "ABX9TyMZtk0dR/gcviJdy7erIolu",
      "include_colab_link": true
    },
    "kernelspec": {
      "name": "python3",
      "display_name": "Python 3"
    },
    "language_info": {
      "name": "python"
    }
  },
  "cells": [
    {
      "cell_type": "markdown",
      "metadata": {
        "id": "view-in-github",
        "colab_type": "text"
      },
      "source": [
        "<a href=\"https://colab.research.google.com/github/Reginatom/hello-world/blob/master/BCC_UFABC.ipynb\" target=\"_parent\"><img src=\"https://colab.research.google.com/assets/colab-badge.svg\" alt=\"Open In Colab\"/></a>"
      ]
    },
    {
      "cell_type": "markdown",
      "source": [],
      "metadata": {
        "id": "3qadC0ayyYDZ"
      }
    },
    {
      "cell_type": "markdown",
      "source": [
        "Programa que calcula e imprime na tela o volume de uma esfera de raio 5 com uma aproximação de 3 casas decimais."
      ],
      "metadata": {
        "id": "aqZW16e-5CwI"
      }
    },
    {
      "cell_type": "code",
      "source": [
        "import math\n",
        "\n",
        "#Variável raio da esfera R com o valor 5\n",
        "R = 5.000\n",
        "\n",
        "#Cálculo do valor do Volume da esfera Ve\n",
        "Ve = 4/3*math.pi*R**3\n",
        "\n",
        "#Mostrar valor de Ve na tela\n",
        "print(\"O volume de uma esfera de raio = 5 é %.3f\" %Ve, \"unidades cúbicas.\")"
      ],
      "metadata": {
        "colab": {
          "base_uri": "https://localhost:8080/"
        },
        "id": "G2vMzEJu7xw3",
        "outputId": "9b70af27-ec2b-4ae9-f7e9-d16c6be9374f"
      },
      "execution_count": 36,
      "outputs": [
        {
          "output_type": "stream",
          "name": "stdout",
          "text": [
            "O volume de uma esfera de raio = 5 é 523.599 unidades cúbicas.\n"
          ]
        }
      ]
    }
  ]
}